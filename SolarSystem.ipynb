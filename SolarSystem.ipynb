{
 "cells": [
  {
   "cell_type": "markdown",
   "metadata": {},
   "source": [
    "## Pick a Solar System object, google its Ecliptic or Equatorial Coordinates, "
   ]
  },
  {
   "cell_type": "code",
   "execution_count": 3,
   "metadata": {},
   "outputs": [],
   "source": [
    "#Import coordinates and units packages\n",
    "from astropy.coordinates import SkyCoord\n",
    "import astropy.units as u"
   ]
  },
  {
   "cell_type": "code",
   "execution_count": 2,
   "metadata": {},
   "outputs": [],
   "source": [
    "#Make an object for Quaoar's coordinates using the SkyCoord package\n",
    "#Can input in Sexigesimal hours and degrees as a string\n",
    "quaoar = SkyCoord('18h03m56.48s', '-15d20m13.4s', frame='fk5')"
   ]
  },
  {
   "cell_type": "code",
   "execution_count": 3,
   "metadata": {},
   "outputs": [
    {
     "data": {
      "text/plain": [
       "<SkyCoord (FK5: equinox=J2000.000): (ra, dec) in deg\n",
       "    (270.98533333, -15.33705556)>"
      ]
     },
     "execution_count": 3,
     "metadata": {},
     "output_type": "execute_result"
    }
   ],
   "source": [
    "#Print quaoar to check it out in decimal degrees\n",
    "quaoar"
   ]
  },
  {
   "cell_type": "code",
   "execution_count": 4,
   "metadata": {},
   "outputs": [],
   "source": [
    "#Note that if I had wanted, I could have input quaoar in these units, though I would need to specify the units\n",
    "quaoar = SkyCoord(270.98533333*u.deg,-15.33705556*u.deg, frame='icrs')"
   ]
  },
  {
   "cell_type": "code",
   "execution_count": 5,
   "metadata": {},
   "outputs": [
    {
     "data": {
      "text/plain": [
       "<SkyCoord (Galactic): (l, b) in deg\n",
       "    (13.88186354, 3.21014185)>"
      ]
     },
     "execution_count": 5,
     "metadata": {},
     "output_type": "execute_result"
    }
   ],
   "source": [
    "#Now I would like to convert these to the Galactic coordinate system.  I can also do this using SkyCoord!\n",
    "quaoar.galactic"
   ]
  },
  {
   "cell_type": "markdown",
   "metadata": {},
   "source": [
    "#### So, the Galactic coordinates for Quaoar (at least in June 2018) are: l=13.881855 deg, b=3.210145 deg"
   ]
  },
  {
   "cell_type": "code",
   "execution_count": 6,
   "metadata": {},
   "outputs": [
    {
     "data": {
      "text/plain": [
       "<SkyCoord (BarycentricTrueEcliptic: equinox=J2000.000): (lon, lat) in deg\n",
       "    (270.9598155, 8.09894285)>"
      ]
     },
     "execution_count": 6,
     "metadata": {},
     "output_type": "execute_result"
    }
   ],
   "source": [
    "#Just for fun.  Lets check out the ecliptic coordinates.  \n",
    "#Unless the Minor Planet Center lied, it should be pretty close to the ecliptic...\n",
    "#SkyCoord can handle a few different types of Ecliptic, but lets use BarycentricTrueEcliptic, as it has the same\n",
    "#origin (Solar System Barycenter) as the ICRS Equatorial systems, so causes less headaches\n",
    "quaoar.barycentrictrueecliptic"
   ]
  },
  {
   "cell_type": "markdown",
   "metadata": {},
   "source": [
    "Yup!  Its got an Ecliptic latiutde of 8 degrees, so its a bit inclined to the Sun-Earth plane, but not much.\n",
    "\n",
    "Let's put its position on the board (and draw axes if I forgot)"
   ]
  },
  {
   "cell_type": "markdown",
   "metadata": {},
   "source": [
    "## Now, pick your own object.  Find its equatorial coordinates, and write code to convert them to Galactic Coordinates.\n",
    "### When you have your answer, go draw an \"x\" on the board, and label your object."
   ]
  },
  {
   "cell_type": "code",
   "execution_count": 4,
   "metadata": {},
   "outputs": [],
   "source": [
    "pluto = SkyCoord('19h39m16.1s', '-22d10m26.1s', frame='fk5')"
   ]
  },
  {
   "cell_type": "code",
   "execution_count": 5,
   "metadata": {},
   "outputs": [
    {
     "data": {
      "text/plain": [
       "<SkyCoord (FK5: equinox=J2000.000): (ra, dec) in deg\n",
       "    (294.81708333, -22.17391667)>"
      ]
     },
     "execution_count": 5,
     "metadata": {},
     "output_type": "execute_result"
    }
   ],
   "source": [
    "pluto"
   ]
  },
  {
   "cell_type": "code",
   "execution_count": 6,
   "metadata": {},
   "outputs": [
    {
     "data": {
      "text/plain": [
       "<SkyCoord (Galactic): (l, b) in deg\n",
       "    (17.59826884, -20.05087431)>"
      ]
     },
     "execution_count": 6,
     "metadata": {},
     "output_type": "execute_result"
    }
   ],
   "source": [
    "pluto.galactic"
   ]
  },
  {
   "cell_type": "code",
   "execution_count": 7,
   "metadata": {},
   "outputs": [
    {
     "data": {
      "text/plain": [
       "<SkyCoord (Galactic): (l, b) in deg\n",
       "    (61.81178153, -56.62026401)>"
      ]
     },
     "execution_count": 7,
     "metadata": {},
     "output_type": "execute_result"
    }
   ],
   "source": [
    "venus = SkyCoord('22h54m54.1s', '-8d17m42.7s', frame='fk5')\n",
    "venus.galactic"
   ]
  },
  {
   "cell_type": "code",
   "execution_count": 8,
   "metadata": {},
   "outputs": [
    {
     "data": {
      "text/latex": [
       "$48^\\circ56{}^\\prime53.9314{}^{\\prime\\prime}$"
      ],
      "text/plain": [
       "<Angle 48.94831428 deg>"
      ]
     },
     "execution_count": 8,
     "metadata": {},
     "output_type": "execute_result"
    }
   ],
   "source": [
    "sep = pluto.separation(venus)\n",
    "sep"
   ]
  },
  {
   "cell_type": "code",
   "execution_count": null,
   "metadata": {},
   "outputs": [],
   "source": []
  }
 ],
 "metadata": {
  "kernelspec": {
   "display_name": "Python 3",
   "language": "python",
   "name": "python3"
  },
  "language_info": {
   "codemirror_mode": {
    "name": "ipython",
    "version": 3
   },
   "file_extension": ".py",
   "mimetype": "text/x-python",
   "name": "python",
   "nbconvert_exporter": "python",
   "pygments_lexer": "ipython3",
   "version": "3.7.3"
  }
 },
 "nbformat": 4,
 "nbformat_minor": 2
}
