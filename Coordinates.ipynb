{
 "cells": [
  {
   "cell_type": "markdown",
   "metadata": {},
   "source": [
    "## Part 1\n",
    "### The follow are four sets of Equatorial coordinates.  \n",
    "1) RA, Dec = 05h35m17.0s, -05d23m28.0s<br>\n",
    "2) RA, Dec = 18h00m03.4s, +66d33m42.4s<br>\n",
    "3) RA, Dec = 272.62917, -22.677778 degrees<br>\n",
    "4) RA, Dec = 266.404996, -28.936178 degrees<br>\n",
    "\n",
    "#### Use Python (and not Google!) to figure out which of the four correspond to the following locations:\n",
    "1) Galactic Center<br>\n",
    "2) A good place for a JWST ultra deep field<br>\n",
    "3) A Solar System Object<br>"
   ]
  },
  {
   "cell_type": "code",
   "execution_count": 77,
   "metadata": {},
   "outputs": [],
   "source": [
    "#Start by importing the astropy SkyCoord and units packages, as we did in the example\n",
    "from astropy.coordinates import SkyCoord\n",
    "import astropy.units as u\n",
    "import matplotlib.pyplot as plt\n",
    "from astropy.coordinates import ICRS, Galactic, FK4, FK5 \n",
    "from astropy.coordinates import Angle, Latitude, Longitude\n",
    "import numpy as np"
   ]
  },
  {
   "cell_type": "code",
   "execution_count": 21,
   "metadata": {},
   "outputs": [],
   "source": [
    "#Uncomment next like to check out docstring (formatted comments) for the SkyCoord package\n",
    "SkyCoord?"
   ]
  },
  {
   "cell_type": "code",
   "execution_count": 18,
   "metadata": {},
   "outputs": [],
   "source": [
    "#Next, take the first coordinate.  \n",
    "#Is there a transform you could do to figure out which of the three known locations it is?  \n",
    "#Go back to the Solar System example to see how you did something similar then.\n",
    "obj1 = SkyCoord('05h35m17.0s', '-05d23m28.0s', frame='fk5')\n",
    "obj2 = SkyCoord('18h00m03.4s', '66d33m42.4s', frame='fk5')\n",
    "obj3 = SkyCoord(272.62917*u.deg, -22.677778*u.deg, frame='icrs')\n",
    "obj4 = SkyCoord(266.404996*u.deg, -28.936178*u.deg, frame='icrs')"
   ]
  },
  {
   "cell_type": "code",
   "execution_count": 19,
   "metadata": {},
   "outputs": [
    {
     "name": "stdout",
     "output_type": "stream",
     "text": [
      "obj1--- <SkyCoord (BarycentricTrueEcliptic: equinox=J2000.000): (lon, lat) in deg\n",
      "    (82.98393616, -28.68001874)> obj2--- <SkyCoord (Galactic): (l, b) in deg\n",
      "    (96.38520103, 29.80580469)> obj3--- <SkyCoord (BarycentricTrueEcliptic: equinox=J2000.000): (lon, lat) in deg\n",
      "    (272.42598026, 0.739365)> obj4--- <SkyCoord (Galactic): (l, b) in deg\n",
      "    (3.31389035e-06, -5.88592742e-06)>\n"
     ]
    }
   ],
   "source": [
    "#Once you have solved one object, move on to the others.  \n",
    "#Remember, we have you four positions, but you're looking for three specific things, so one is a red herring.\n",
    "\n",
    "print(\"obj1---\", obj1.barycentrictrueecliptic, \n",
    "      \"obj2---\", obj2.galactic, \n",
    "      \"obj3---\", obj3.barycentrictrueecliptic, \n",
    "      \"obj4---\", obj4.galactic)\n",
    "\n",
    "#galactic center should be (0,0) in galactic coord\n",
    "#JWST deep field should be out of the galactic plane (any, +/- 90)\n",
    "#solar system object... in the ecliptic plane??"
   ]
  },
  {
   "cell_type": "code",
   "execution_count": 3,
   "metadata": {
    "collapsed": true
   },
   "outputs": [],
   "source": [
    "#In this cell, list your answers:\n",
    "\n",
    "#Galactic Center = Object 4\n",
    "#JWST Ultra Deep Field = Object 2\n",
    "#Solar System Object = Object 3"
   ]
  },
  {
   "cell_type": "markdown",
   "metadata": {},
   "source": [
    "## Part 2\n",
    "In class we saw where the Ecliplic plane lies in Galactic coordinates.  For this part of your assignment, we would like you to make a plot in Celestial coordinates (where the horizontal axis is Right Ascention from 0 to 24 hours, and the vertical axis is declination, from -90 to +90 degrees).  On this plot, draw curves for the postion of the Ecliptic Plane and Galactic plane, and label both the Ecliptic and Galactic poles.\n"
   ]
  },
  {
   "cell_type": "code",
   "execution_count": 167,
   "metadata": {},
   "outputs": [],
   "source": [
    "#Use this cell to make this plot\n",
    "#Note that SkyCoord can handle arrays of multiple coordinates\n",
    "#We recommend matplotlib.pyplot for plotting\n",
    "\n",
    "#gal_cen = SkyCoord(0, 0, frame='galactic', unit='deg')\n",
    "gal_north = SkyCoord(0, 90, frame='galactic', unit='deg')\n",
    "gal_south = SkyCoord(0, -90, frame='galactic', unit='deg')\n",
    "\n",
    "#generates list of coordinates of galactic plane in galactic coords\n",
    "gal_pnts_l = np.vstack(np.arange(0, 360, 30))\n",
    "gal_pnts_b = np.vstack(np.zeros(12))\n",
    "gal_pairs = np.hstack((gal_pnts_l, gal_pnts_b))\n",
    "gal_pairs1 = SkyCoord(gal_pairs, frame='galactic', unit='deg')\n",
    "#print(gal_pairs1)\n",
    "\n",
    "#convert to icrs\n",
    "icrs_gal = gal_pairs1.icrs\n",
    "gal_nor = gal_north.icrs #(192.85947789, 27.12825241)\n",
    "gal_so = gal_south.icrs #(12.85947789, -27.12825241)\n",
    "\n",
    "data = np.array([(266.40498829, -28.93617776), (281.52164248,  -2.60914152),\n",
    "     (295.97637495,  23.89037583), (318.00438151,  48.32963721),\n",
    "     (  6.45083114,  62.72572675), ( 61.11706742,  52.42018612),\n",
    "     ( 86.40498829,  28.93617776), (101.52164248,   2.60914152),\n",
    "     (115.97637495, -23.89037583), (138.00438151, -48.32963721),\n",
    "     (186.45083114, -62.72572675), (241.11706742, -52.42018612)])\n",
    "#print(data)\n",
    "\n",
    "#sorts pairs into ra and dec\n",
    "ra, dec =[], []\n",
    "for i in range(len(data)):\n",
    "    ra.append(data[i][0])\n",
    "    dec.append(data[i][1])\n",
    "\n",
    "#coverts ra to hourangle\n",
    "ra1 = u.deg.to(u.hourangle, ra)\n",
    "gal_nor1 = u.deg.to(u.hourangle, (192.85947789, 27.12825241))\n",
    "gal_so1 = u.deg.to(u.hourangle, (12.85947789, -27.12825241))\n",
    "#gal_nor1, gal_so1 = (12.85729853  1.80855016), (0.85729853 -1.80855016) for plotting\n",
    "\n",
    "#print(ra1, dec) "
   ]
  },
  {
   "cell_type": "code",
   "execution_count": 179,
   "metadata": {},
   "outputs": [
    {
     "name": "stdout",
     "output_type": "stream",
     "text": [
      "[17.99999902  4.43738124] [ 5.99999902 -4.43738124]\n"
     ]
    }
   ],
   "source": [
    "#now same process for the ecliptic plane\n",
    "ec_north = SkyCoord(0, 90, 1, frame='barycentrictrueecliptic', unit='deg')\n",
    "ec_south =  SkyCoord(0, -90, 1, frame='barycentrictrueecliptic', unit='deg')\n",
    "\n",
    "#creates list of ec plane in ec coords\n",
    "ec_pnts_lat = np.vstack(np.arange(0, 360, 30))\n",
    "ec_pnts_lon = np.vstack(np.zeros(12))\n",
    "ec_pairs = np.hstack((ec_pnts_lat, ec_pnts_lon))\n",
    "ec_pairs1 = SkyCoord(ec_pairs, frame='barycentrictrueecliptic', unit='deg')\n",
    "\n",
    "#convert to icrs\n",
    "icrs_ec = ec_pairs1.icrs\n",
    "icrs_ec_nor = ec_north.icrs #(269.9999853, 66.56071866, 1.)\n",
    "icrs_ec_so = ec_south.icrs #(89.9999853, -66.56071866, 1.)\n",
    "#print(icrs_ec_nor, icrs_ec_so)\n",
    "\n",
    "data1 = np.array([(359.99999592,  4.60454765e-06), ( 27.91054789,  1.14719731e+01),\n",
    "     ( 57.81874009,  2.01503631e+01), ( 89.99999791,  2.34392813e+01),\n",
    "     (122.18125461,  2.01503582e+01), (152.08944482,  1.14719650e+01),\n",
    "     (179.99999592, -4.60454764e-06), (207.91054789, -1.14719731e+01),\n",
    "     (237.81874009, -2.01503631e+01), (269.99999791, -2.34392813e+01),\n",
    "     (302.18125461, -2.01503582e+01), (332.08944482, -1.14719650e+01)])\n",
    "\n",
    "#sorts\n",
    "raa, decc = [],[]\n",
    "for i in range(len(data1)):\n",
    "    raa.append(data1[i][0])\n",
    "    decc.append(data1[i][1])\n",
    "    \n",
    "#convert to hourangle\n",
    "ra2 = u.deg.to(u.hourangle, raa)\n",
    "ec_north_plot = u.deg.to(u.hourangle, (269.9999853, 66.56071866))\n",
    "ec_south_plot = u.deg.to(u.hourangle, (89.9999853, -66.56071866))\n",
    "print(ec_north_plot, ec_south_plot) #[17.99999902  4.43738124] [ 5.99999902 -4.43738124]"
   ]
  },
  {
   "cell_type": "code",
   "execution_count": 193,
   "metadata": {},
   "outputs": [
    {
     "data": {
      "image/png": "[encoded data removed]",
      "text/plain": [
       "<Figure size 432x288 with 1 Axes>"
      ]
     },
     "metadata": {
      "needs_background": "light"
     },
     "output_type": "display_data"
    }
   ],
   "source": [
    "#plotting the points\n",
    "plt.scatter(ra1, dec, color='green', label='galactic plane', marker='+') #plots gal plane\n",
    "plt.scatter(ra2, decc, color='orange', label='ecliptic plane', marker='1') #plots ecliptic plane\n",
    "plt.scatter(12.85729853,  1.80855016, color='red', label='galactic north', marker='*') #plots gal north\n",
    "plt.scatter(0.85729853, -1.808550161, color='blue', label='galactic south', marker='*') # plots gal south\n",
    "plt.scatter(17.99999902,  4.43738124, color='magenta', label='ecliptic north', marker='x') #plots ec north\n",
    "plt.scatter( 5.99999902, -4.43738124, color='purple', label='ecliptic south', marker='x') #plots ec south\n",
    "plt.legend(fontsize='x-small')\n",
    "plt.xlim([0, 24])\n",
    "#plt.ylim([-90, 90])\n",
    "#plt.xlabel('RA')\n",
    "plt.ylabel('DEC')\n",
    "plt.title('Projections of Galactic and Ecliptic Planes onto Celestial Coordinates')\n",
    "plt.show()"
   ]
  },
  {
   "cell_type": "markdown",
   "metadata": {},
   "source": [
    "## Part 3\n",
    "Here are four sets of coordinates, with the coordinate system labeled.  We'd like to know which of these will be observable at midnight tonight from Austin.  List in the following cell what information you would need to know to answer this question.  If you are able to find that information, go ahead and attempt to answer it.  We will start with this on Tuesday.<br>\n",
    "1) Ecliptic (l,b) = 88.55519406, +66.10205367 <br>\n",
    "2) Ecliptic (l,b) = 276.38398872, -29.81144569 <br>\n",
    "3) Galactic (l,b) = 148.18864288, -60.46831563 <br>\n",
    "4) Galactic (l,b) = 151.41580923, -9.36984271 <br>"
   ]
  },
  {
   "cell_type": "code",
   "execution_count": 194,
   "metadata": {},
   "outputs": [],
   "source": [
    "# need the object to be in the northern hemisphere winter sky\n",
    "# needs to be up in late January \n",
    "# needs to be up at midnight\n",
    "\n",
    "#local sidereal time of austin: 1hr58m55.5632s = ~29.7292deg\n",
    "#if the object's RA is w/i 6hrs (90deg) E/W of the sidereal then it is observable\n",
    "\n",
    "obj1 = SkyCoord(88.55519406, +66.10205367, frame='barycentrictrueecliptic', unit='deg')\n",
    "obj2 = SkyCoord(276.38398872, -29.81144569, frame='barycentrictrueecliptic', unit='deg')\n",
    "obj3 = SkyCoord(148.18864288, -60.46831563, frame='galactic', unit='deg')\n",
    "obj4 = SkyCoord(151.41580923, -9.36984271, frame='galactic', unit='deg')"
   ]
  },
  {
   "cell_type": "code",
   "execution_count": 195,
   "metadata": {},
   "outputs": [
    {
     "name": "stdout",
     "output_type": "stream",
     "text": [
      "<SkyCoord (ICRS): (ra, dec) in deg\n",
      "    (37.67345822, 89.26058333)> <SkyCoord (ICRS): (ra, dec) in deg\n",
      "    (279.23486724, -53.04626574)> <SkyCoord (ICRS): (ra, dec) in deg\n",
      "    (25., 3.45455177e-09)> <SkyCoord (ICRS): (ra, dec) in deg\n",
      "    (53.91026104, 44.23333522)>\n"
     ]
    }
   ],
   "source": [
    "print(obj1.icrs, obj2.icrs, obj3.icrs, obj4.icrs)\n",
    "#RA, DEC\n",
    "#1: (37.67345822, 89.26058333)\n",
    "#2: (279.23486724, -53.04626574)\n",
    "#3: (25., 3.45455177e-09)\n",
    "#4: (53.91026104, 44.23333522)\n",
    "\n",
    "#obj w/ RA b/w -61, 119 deg are observable\n",
    "#so, objects 1, 3, 4 are observable at midnight in Austin tonight"
   ]
  },
  {
   "cell_type": "code",
   "execution_count": null,
   "metadata": {},
   "outputs": [],
   "source": []
  }
 ],
 "metadata": {
  "kernelspec": {
   "display_name": "Python 3",
   "language": "python",
   "name": "python3"
  },
  "language_info": {
   "codemirror_mode": {
    "name": "ipython",
    "version": 3
   },
   "file_extension": ".py",
   "mimetype": "text/x-python",
   "name": "python",
   "nbconvert_exporter": "python",
   "pygments_lexer": "ipython3",
   "version": "3.7.3"
  }
 },
 "nbformat": 4,
 "nbformat_minor": 2
}
